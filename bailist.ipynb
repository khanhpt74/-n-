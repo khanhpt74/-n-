{
  "nbformat": 4,
  "nbformat_minor": 0,
  "metadata": {
    "colab": {
      "name": "bailist.ipynb",
      "provenance": [],
      "authorship_tag": "ABX9TyOwTOxOg2YLmXehW8ZLGN/u",
      "include_colab_link": true
    },
    "kernelspec": {
      "name": "python3",
      "display_name": "Python 3"
    },
    "language_info": {
      "name": "python"
    }
  },
  "cells": [
    {
      "cell_type": "markdown",
      "metadata": {
        "id": "view-in-github",
        "colab_type": "text"
      },
      "source": [
        "<a href=\"https://colab.research.google.com/github/khanhpt74/-n-/blob/main/bailist.ipynb\" target=\"_parent\"><img src=\"https://colab.research.google.com/assets/colab-badge.svg\" alt=\"Open In Colab\"/></a>"
      ]
    },
    {
      "cell_type": "code",
      "metadata": {
        "colab": {
          "base_uri": "https://localhost:8080/"
        },
        "id": "rBfVyQcKYXCw",
        "outputId": "0a89da81-423a-459e-e630-1bf62017ce86"
      },
      "source": [
        "x = []     \n",
        "x.append(18)   \n",
        "x.append(\"huế\")\n",
        "y = [12,45,-1,-0.56,\"abc\"]\n",
        "x.extend(y)\n",
        "print(x)\n",
        "print(x[-1])\n",
        "print(x[0])\n",
        "print(x[0:5])\n",
        "print(x[3:6])"
      ],
      "execution_count": null,
      "outputs": [
        {
          "output_type": "stream",
          "name": "stdout",
          "text": [
            "[18, 'huế', 12, 45, -1, -0.56, 'abc']\n",
            "abc\n",
            "18\n",
            "[18, 'huế', 12, 45, -1]\n",
            "[45, -1, -0.56]\n"
          ]
        }
      ]
    }
  ]
}