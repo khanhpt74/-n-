{
  "nbformat": 4,
  "nbformat_minor": 0,
  "metadata": {
    "colab": {
      "name": "Untitled18.ipynb",
      "provenance": [],
      "authorship_tag": "ABX9TyMT1ZpOh71o2AYCbSGA3/jb",
      "include_colab_link": true
    },
    "kernelspec": {
      "name": "python3",
      "display_name": "Python 3"
    },
    "language_info": {
      "name": "python"
    }
  },
  "cells": [
    {
      "cell_type": "markdown",
      "metadata": {
        "id": "view-in-github",
        "colab_type": "text"
      },
      "source": [
        "<a href=\"https://colab.research.google.com/github/khanhpt74/-n-/blob/main/baitaptrenlop.ipynb\" target=\"_parent\"><img src=\"https://colab.research.google.com/assets/colab-badge.svg\" alt=\"Open In Colab\"/></a>"
      ]
    },
    {
      "cell_type": "code",
      "metadata": {
        "colab": {
          "base_uri": "https://localhost:8080/"
        },
        "id": "59LuswOLekse",
        "outputId": "c882187a-f820-4094-9f6c-aa870cead5e5"
      },
      "source": [
        "# Tính toán monthlyPayment:\n",
        "# nhập vào loanAmount:\n",
        "loanAmount = float(input(\"nhập vào loanAmount: \"))\n",
        "# nhập vào monthlyInterestRate:\n",
        "monthlyInterestRate = float(input(\"nhập vào monthlyInterestRate: \"))\n",
        "# Nhập vào numberOfYears:\n",
        "numberOfYears = float(input(\"nhập vào numberOfYears: \"))\n",
        "# Tính toán monthlyPayment:\n",
        "monthlyPayment = (loanAmount*monthlyInterestRate)/(1-1/(pow(1+monthlyInterestRate,numberOfYears*12)))\n",
        "# kết quả monthlyPayment:\n",
        "print(f'Kết quả monthlyPayment là: {monthlyPayment}')\n",
        "\n"
      ],
      "execution_count": 3,
      "outputs": [
        {
          "output_type": "stream",
          "name": "stdout",
          "text": [
            "nhập vào loanAmount: 2\n",
            "nhập vào monthlyInterestRate: 3\n",
            "nhập vào numberOfYears: 2\n",
            "Kết quả monthlyPayment là: 6.000000000000021\n"
          ]
        }
      ]
    },
    {
      "cell_type": "code",
      "metadata": {
        "colab": {
          "base_uri": "https://localhost:8080/"
        },
        "id": "RcOO6xcXi6Ei",
        "outputId": "7a1fff51-2d7e-43b6-9949-158a2d0a4571"
      },
      "source": [
        "#tính khoảng cách \n",
        "from math import sqrt,pow\n",
        "#b1: Cho 2 điểm A,B.Lập chương trình tính toán khoảng cách giữa 2 điểm này:\n",
        "#nhập tọa độ điểm x1,x2\n",
        "x1 = float(input(\"nhập tọa độ x1:\" ))\n",
        "y1 = float(input(\"nhập tọa độ y1:\" ))\n",
        "#nhập tọa độ điểm y1,y2\n",
        "x2 = float(input(\"nhập tọa độ x2:\" ))\n",
        "y2 = float(input(\"nhập tọa độ y2:\" ))\n",
        "# Công thức tính khoảng cách giữa 2 điểm A,B:\n",
        "_length_of_vector = ( pow (x2-x1, 2)+ pow (y2-y1, 2))\n",
        "print(f'Khoảng cách giữa 2 điểm A( {x1} , {y1} ), B ( {x2} , {y2}) is: {_length_of_vector}')\n"
      ],
      "execution_count": 22,
      "outputs": [
        {
          "output_type": "stream",
          "name": "stdout",
          "text": [
            "nhập tọa độ x1:2\n",
            "nhập tọa độ y1:3\n",
            "nhập tọa độ x2:1\n",
            "nhập tọa độ y2:3\n",
            "Khoảng cách giữa 2 điểm A( 2.0 , 3.0 ), B ( 1.0 , 3.0) is: 1.0\n"
          ]
        }
      ]
    }
  ]
}