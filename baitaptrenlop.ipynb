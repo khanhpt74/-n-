{
  "nbformat": 4,
  "nbformat_minor": 0,
  "metadata": {
    "colab": {
      "name": "Untitled23.ipynb",
      "provenance": [],
      "authorship_tag": "ABX9TyPbsoG/qKG20/jF5ZRhCpbY",
      "include_colab_link": true
    },
    "kernelspec": {
      "name": "python3",
      "display_name": "Python 3"
    },
    "language_info": {
      "name": "python"
    }
  },
  "cells": [
    {
      "cell_type": "markdown",
      "metadata": {
        "id": "view-in-github",
        "colab_type": "text"
      },
      "source": [
        "<a href=\"https://colab.research.google.com/github/khanhpt74/-n-/blob/main/baitaptrenlop.ipynb\" target=\"_parent\"><img src=\"https://colab.research.google.com/assets/colab-badge.svg\" alt=\"Open In Colab\"/></a>"
      ]
    },
    {
      "cell_type": "markdown",
      "metadata": {
        "id": "3ZoGSwUdFWIC"
      },
      "source": [
        "1. Write a Python program to get a number from the user and print whether it is positive or negative"
      ]
    },
    {
      "cell_type": "code",
      "metadata": {
        "colab": {
          "base_uri": "https://localhost:8080/"
        },
        "id": "5Zkdz3hnCEje",
        "outputId": "b57e6f06-b5cb-43b6-d30e-d3d70ecfbc78"
      },
      "source": [
        "num = float(input(\"enter a number: \"))\n",
        "if num > 0:\n",
        "  print(\"Positive number\")\n",
        "elif num == 0:\n",
        "  print(\"zero\")\n",
        "else:\n",
        "  print(\"Negative number\")  \n"
      ],
      "execution_count": 2,
      "outputs": [
        {
          "output_type": "stream",
          "name": "stdout",
          "text": [
            "enter a number: 6\n",
            "Positive number\n"
          ]
        }
      ]
    },
    {
      "cell_type": "markdown",
      "metadata": {
        "id": "LL6Mi10IFbmM"
      },
      "source": [
        "2. Take three numbers from the user and print the greatest number"
      ]
    },
    {
      "cell_type": "code",
      "metadata": {
        "colab": {
          "base_uri": "https://localhost:8080/"
        },
        "id": "lgdblw0DFe_U",
        "outputId": "8a1dae91-a73a-45fb-a16c-2b8a74a244e4"
      },
      "source": [
        "num1 = float(input(\"enter a number: \"))\n",
        "num2 = float(input(\"enter a number: \"))\n",
        "num3 = float(input(\"enter a number: \"))\n",
        "if (num1 >= num2) and (num1 >= num3):\n",
        "   largest = num1\n",
        "elif (num2 >= num1) and (num2 >= num3):\n",
        "   largest = num2\n",
        "else:\n",
        "   largest = num3\n",
        "\n",
        "print(\"The largest number is\", largest)"
      ],
      "execution_count": 3,
      "outputs": [
        {
          "output_type": "stream",
          "name": "stdout",
          "text": [
            "enter a number: 3\n",
            "enter a number: 5\n",
            "enter a number: 7\n",
            "The largest number is 7.0\n"
          ]
        }
      ]
    },
    {
      "cell_type": "markdown",
      "metadata": {
        "id": "ef423cBOF1eD"
      },
      "source": [
        "3. Write a Python program that reads a floating-point number and prints \"zero\" if the number is\n",
        "zero. Otherwise, print \"positive\" or \"negative\". Add \"small\" if the absolute value of the number is\n",
        "less than 1, or \"large\" if it exceeds 1,000,000."
      ]
    },
    {
      "cell_type": "code",
      "metadata": {
        "colab": {
          "base_uri": "https://localhost:8080/"
        },
        "id": "TE4gurQOF71u",
        "outputId": "e68c00c4-3857-43d6-d472-eb74a5aedd1e"
      },
      "source": [
        "x=float(input('Enter a number it could be positive, negative, zero : '))\n",
        "if x>0:\n",
        "    print (x,' Is positive number')\n",
        "    if abs(x)>1000000:\n",
        "        print ('Large')\n",
        "if x<0:\n",
        "    print(x,' Is Negative')\n",
        "    if abs(x)<1:\n",
        "        print ('Small')\n",
        "if x==0:\n",
        "    print (x,' Is zero')"
      ],
      "execution_count": 7,
      "outputs": [
        {
          "output_type": "stream",
          "name": "stdout",
          "text": [
            "Enter a number it could be positive, negative, zero : 30000\n",
            "30000.0  Is positive number\n"
          ]
        }
      ]
    },
    {
      "cell_type": "markdown",
      "metadata": {
        "id": "GZm6re6YGvHf"
      },
      "source": [
        "4. Write a Python program that keeps a number from the user and generates an integer between 1\n",
        "and 7 and displays the name of the weekday.\n"
      ]
    },
    {
      "cell_type": "code",
      "metadata": {
        "colab": {
          "base_uri": "https://localhost:8080/"
        },
        "id": "tZUOSbOBHQ_9",
        "outputId": "944a2975-233e-4f8a-fd03-5094d2c6ba56"
      },
      "source": [
        "day= int(input(\"Enter a number 1-7 : \")) \n",
        " \n",
        "if (day==1): \n",
        "    print(day,\" is Sunday\") \n",
        "elif (day==2): \n",
        "    print(day,\" is Monday\") \n",
        "elif (day==3): \n",
        "    print(day,\" is Tuesday\") \n",
        "elif (day==4): \n",
        "    print(day,\" is Wednesday\") \n",
        "elif (day==5): \n",
        "    print(day,\" is Thursday\") \n",
        "elif (day==6): \n",
        "    print(day,\" is Friday\") \n",
        "elif (day==7): \n",
        "    print(day,\" is Saturday\") \n",
        "else: \n",
        "    print(\"Wrong Input!!!!!\") "
      ],
      "execution_count": 25,
      "outputs": [
        {
          "output_type": "stream",
          "name": "stdout",
          "text": [
            "Enter a number 1-7 : 2\n",
            "2  is Monday\n"
          ]
        }
      ]
    },
    {
      "cell_type": "markdown",
      "metadata": {
        "id": "muAzBz2zHwwb"
      },
      "source": [
        "5. Write a Python program that reads in two floating-point numbers and tests whether they are the\n",
        "same up to three decimal places."
      ]
    },
    {
      "cell_type": "code",
      "metadata": {
        "colab": {
          "base_uri": "https://localhost:8080/"
        },
        "id": "emzvjA51HyvS",
        "outputId": "ccefb859-d0b7-40fd-8b2b-70ef17ef7125"
      },
      "source": [
        "x1 = float(input(\"Enter x1 : \"))\n",
        "y1 = float(input(\"Enter y1 : \"))\n",
        "x1 = round(x1*1000)\n",
        "x1 = x1/1000\n",
        "y1 = round(y1*1000)\n",
        "y1 = y1/1000\n",
        "if(x1 == y1):\n",
        "  print(\"They are the same up to three decimal places\")\n",
        "else:\n",
        "  print(\"They arre diferent\")  \n"
      ],
      "execution_count": 24,
      "outputs": [
        {
          "output_type": "stream",
          "name": "stdout",
          "text": [
            "Enter x1 : 2.5\n",
            "Enter y1 : 3.6\n",
            "They arre diferent\n"
          ]
        }
      ]
    }
  ]
}