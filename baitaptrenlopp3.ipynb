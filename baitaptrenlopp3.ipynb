{
  "nbformat": 4,
  "nbformat_minor": 0,
  "metadata": {
    "colab": {
      "name": "Untitled21.ipynb",
      "provenance": [],
      "authorship_tag": "ABX9TyPCOeW8TaYbUTdIGsJ3fXYc",
      "include_colab_link": true
    },
    "kernelspec": {
      "name": "python3",
      "display_name": "Python 3"
    },
    "language_info": {
      "name": "python"
    }
  },
  "cells": [
    {
      "cell_type": "markdown",
      "metadata": {
        "id": "view-in-github",
        "colab_type": "text"
      },
      "source": [
        "<a href=\"https://colab.research.google.com/github/khanhpt74/-n-/blob/main/baitaptrenlopp3.ipynb\" target=\"_parent\"><img src=\"https://colab.research.google.com/assets/colab-badge.svg\" alt=\"Open In Colab\"/></a>"
      ]
    },
    {
      "cell_type": "markdown",
      "metadata": {
        "id": "mMqmemnTO264"
      },
      "source": [
        "truy cập phần tử list \n"
      ]
    },
    {
      "cell_type": "code",
      "metadata": {
        "colab": {
          "base_uri": "https://localhost:8080/"
        },
        "id": "8MAzG9oPMRE1",
        "outputId": "9438079d-65db-4f52-c4d8-b6e38589c919"
      },
      "source": [
        "list1 = ['dola', 'vnd', 200 , 100]\n",
        "list2 = [1, 2, 3, 4, 5,]\n",
        "list3 = [\"a\", \"b\", \"c\", \"d\"]\n",
        "print(\"list1[0]: \", list1[0]) #truy cập hần tử list \n",
        "print(\"list2[1:4]:\", list2[1:5])"
      ],
      "execution_count": 2,
      "outputs": [
        {
          "output_type": "stream",
          "name": "stdout",
          "text": [
            "list1[0]:  dola\n",
            "list2[1:4]: [2, 3, 4, 5]\n"
          ]
        }
      ]
    },
    {
      "cell_type": "markdown",
      "metadata": {
        "id": "RfhW1uEBPCeK"
      },
      "source": [
        "thay đổi giá trị phần tử list "
      ]
    },
    {
      "cell_type": "code",
      "metadata": {
        "colab": {
          "base_uri": "https://localhost:8080/"
        },
        "id": "oxYKYoMjPJDX",
        "outputId": "67205032-5ba8-4b6c-e7cb-b19d830bc324"
      },
      "source": [
        "\n",
        "list = [1, 2, 3, 4, 5,]\n",
        "\n",
        "print(\"Value available ai index 2 : \")\n",
        "print(list[2])\n",
        "list[2] = 7\n",
        "print(\"new value availableat index 2 : \")\n",
        "print(list[2])"
      ],
      "execution_count": 6,
      "outputs": [
        {
          "output_type": "stream",
          "name": "stdout",
          "text": [
            "Value available ai index 2 : \n",
            "3\n",
            "new value availableat index 2 : \n",
            "7\n"
          ]
        }
      ]
    },
    {
      "cell_type": "markdown",
      "metadata": {
        "id": "SWascLODRLYD"
      },
      "source": [
        "xóa phần tử list \n"
      ]
    },
    {
      "cell_type": "code",
      "metadata": {
        "colab": {
          "base_uri": "https://localhost:8080/"
        },
        "id": "ceO92wrERdrw",
        "outputId": "4cce46a6-7569-40e1-a4c6-962f2d630fa6"
      },
      "source": [
        "list1 = ['dola', 'vnd', 200 , 100] \n",
        "print(list1)\n",
        "del list1[2] # xóa 1 phần tử list \n",
        "print(\"After deleting value at index 2 : \")\n",
        "print(list1)"
      ],
      "execution_count": 8,
      "outputs": [
        {
          "output_type": "stream",
          "name": "stdout",
          "text": [
            "['dola', 'vnd', 200, 100]\n",
            "After deleting value at index 2 : \n",
            "['dola', 'vnd', 100]\n"
          ]
        }
      ]
    },
    {
      "cell_type": "markdown",
      "metadata": {
        "id": "u1BC__IfSIwZ"
      },
      "source": [
        "khởi tạo list \n"
      ]
    },
    {
      "cell_type": "code",
      "metadata": {
        "id": "wVLP3KccSMR_"
      },
      "source": [
        "tup1 = ('physics', 'chemistry', 1997, 2000)\n",
        "tup2 = (1, 2, 3, 4, 5 )\n",
        "tup3 = \"a\", \"b\", \"c\", \"d\"\n",
        "tup1 = ()\n",
        "tup1 = (50,)"
      ],
      "execution_count": 10,
      "outputs": []
    },
    {
      "cell_type": "markdown",
      "metadata": {
        "id": "BA2Z_UwpSOpu"
      },
      "source": [
        "Thao tác với Tuples - Truy cập các phần tử của Tuples\n"
      ]
    },
    {
      "cell_type": "code",
      "metadata": {
        "colab": {
          "base_uri": "https://localhost:8080/"
        },
        "id": "cYqrz2GcSTwy",
        "outputId": "828230da-9297-44a5-9255-c246e7f302b7"
      },
      "source": [
        "tup1 = ('physics', 'chemistry', 1997, 2000)\n",
        "tup2 = (1, 2, 3, 4, 5, 6, 7 )\n",
        "print(\"tup1[0]: \", tup1[0])\n",
        "print(\"tup2[1:5]: \", tup2[1:5])"
      ],
      "execution_count": 11,
      "outputs": [
        {
          "output_type": "stream",
          "name": "stdout",
          "text": [
            "tup1[0]:  physics\n",
            "tup2[1:5]:  (2, 3, 4, 5)\n"
          ]
        }
      ]
    },
    {
      "cell_type": "markdown",
      "metadata": {
        "id": "7oggt-d3SYUx"
      },
      "source": [
        "Thao tác với Tuples - Thay đổi giá trị phần tử của Tuples"
      ]
    },
    {
      "cell_type": "code",
      "metadata": {
        "colab": {
          "base_uri": "https://localhost:8080/"
        },
        "id": "IJk-Tz4WSb49",
        "outputId": "1aa950c2-24a6-4f49-ce7f-59b5b64f09ea"
      },
      "source": [
        "tup1 = (12, 34.56)\n",
        "tup2 = ('abc', 'xyz')\n",
        "tup3 = tup1 + tup2\n",
        "print(tup3)"
      ],
      "execution_count": 12,
      "outputs": [
        {
          "output_type": "stream",
          "name": "stdout",
          "text": [
            "(12, 34.56, 'abc', 'xyz')\n"
          ]
        }
      ]
    },
    {
      "cell_type": "markdown",
      "metadata": {
        "id": "3rVjysyESmW9"
      },
      "source": [
        "Thao tác với Tuples - Xóa phần tử của Tuples"
      ]
    },
    {
      "cell_type": "code",
      "metadata": {
        "id": "oS1p2bQvSnMX"
      },
      "source": [
        "tup = ('physics', 'chemistry', 1997, 2000)\n",
        "print(tup)\n",
        "del tup\n",
        "print(\"After deleting tup : \")\n",
        "print(tup)"
      ],
      "execution_count": null,
      "outputs": []
    },
    {
      "cell_type": "markdown",
      "metadata": {
        "id": "qOXoYEdCSqj_"
      },
      "source": [
        "Thao tác với Dictionary - Khởi tạo và truy cập Dictionary"
      ]
    },
    {
      "cell_type": "code",
      "metadata": {
        "id": "cJXyBCHlStzS"
      },
      "source": [
        "dict = {'Name': 'Zara', 'Age': 7, 'Class': 'First'}\n",
        "print(\"dict['Name']: \", dict['Name'])\n",
        "print(\"dict['Age']: \", dict['Age'])"
      ],
      "execution_count": null,
      "outputs": []
    },
    {
      "cell_type": "markdown",
      "metadata": {
        "id": "de1YRnP3SxdS"
      },
      "source": [
        "Thao tác với Dictionary - Thay đổi giá trị phần tử của\n",
        "Dictionary"
      ]
    },
    {
      "cell_type": "code",
      "metadata": {
        "id": "2rC1bqOSS1Kw"
      },
      "source": [
        "dict = {'Name': 'Zara', 'Age': 7, 'Class': 'First'}\n",
        "dict['Age'] = 8; # update existing entry\n",
        "dict['School'] = \"DPS School\"; # Add new entry\n",
        "print(\"dict['Age']: \", dict['Age'])\n",
        "print(\"dict['School']: \", dict['School'])"
      ],
      "execution_count": null,
      "outputs": []
    },
    {
      "cell_type": "markdown",
      "metadata": {
        "id": "9MnU_u27S36S"
      },
      "source": [
        "Thao tác với Dictionary - Xóa phần tử của Dictionary"
      ]
    },
    {
      "cell_type": "code",
      "metadata": {
        "id": "uO89mhE-S7Um"
      },
      "source": [
        "dict = {'Name': 'Zara', 'Age': 7, 'Class': 'First'}\n",
        "del dict['Name'] # remove entry with key 'Name'\n",
        "dict.clear() # remove all entries in dict\n",
        "del dict # delete entire dictionary"
      ],
      "execution_count": null,
      "outputs": []
    },
    {
      "cell_type": "markdown",
      "metadata": {
        "id": "n7HP-lKvS-ZA"
      },
      "source": [
        "Kiểu Set (kiểu tập hợp)"
      ]
    },
    {
      "cell_type": "code",
      "metadata": {
        "id": "cASVzY_sTBb7"
      },
      "source": [
        "# Same as {\"a\", \"b\", \"c\"}\n",
        "Set = set([\"a\", \"b\", \"c\"])\n",
        "print(\"Set: \")\n",
        "print(Set)\n",
        "# Adding element to the set\n",
        "Set.add(\"d\")\n",
        "print(\"\\nSet after adding: \")\n",
        "print(Set)"
      ],
      "execution_count": null,
      "outputs": []
    },
    {
      "cell_type": "markdown",
      "metadata": {
        "id": "yrdOO52hTFYV"
      },
      "source": [
        "Thao tác với Set - Thêm phần tử"
      ]
    },
    {
      "cell_type": "code",
      "metadata": {
        "id": "arZK9FW6THHj"
      },
      "source": [
        "people = {\"Jay\", \"Idrish\", \"Archi\"}\n",
        "print(\"People: \")\n",
        "print(people)\n",
        "people.add(\"Daxit\")\n",
        "for i in range(1, 6):\n",
        "people.add(i)\n",
        "print(\"\\nSet after adding element:\", end = \" \")\n",
        "print(people)"
      ],
      "execution_count": null,
      "outputs": []
    },
    {
      "cell_type": "markdown",
      "metadata": {
        "id": "uVqXhkmzTKUp"
      },
      "source": [
        "Thao tác với Set - Bớt phần tử"
      ]
    },
    {
      "cell_type": "code",
      "metadata": {
        "id": "9kpqDUUHTOdI"
      },
      "source": [
        "Days=set([\"Mon\",\"Tue\",\"Wed\",\"Thu\",\"Fri\",\"Sat\"])\n",
        "Days.discard(\"Sun\")\n",
        "print(Days)"
      ],
      "execution_count": null,
      "outputs": []
    },
    {
      "cell_type": "markdown",
      "metadata": {
        "id": "F9-RIFphTTIt"
      },
      "source": [
        "Thao tác với Set - Xóa toàn bộ"
      ]
    },
    {
      "cell_type": "code",
      "metadata": {
        "id": "gm1R6Ni2TVJ6"
      },
      "source": [
        "set1 = {1,2,3,4,5,6}\n",
        "print(\"Initial set\")\n",
        "print(set1)\n",
        "# This method will remove\n",
        "# all the elements of the set\n",
        "set1.clear()\n",
        "print(\"\\nSet after using clear() function\")\n",
        "print(set1)\n",
        "#Initial set\n",
        "#{1, 2, 3, 4, 5, 6}\n",
        "#Set after using clear() function\n",
        "#set()"
      ],
      "execution_count": null,
      "outputs": []
    },
    {
      "cell_type": "markdown",
      "metadata": {
        "id": "HNsR_cQ-TY7d"
      },
      "source": [
        "Thao tác với Set - Phép hợp"
      ]
    },
    {
      "cell_type": "code",
      "metadata": {
        "id": "sBHCgiJ-Tbyz"
      },
      "source": [
        "people = {\"Jay\", \"Idrish\", \"Archil\"}\n",
        "vampires = {\"Karan\", \"Arjun\"}\n",
        "dracula = {\"Deepanshu\", \"Raju\"}\n",
        "# Union using union() function\n",
        "population = people.union(vampires)\n",
        "print(\"Union using union() function\")\n",
        "print(population)\n",
        "# Union using \"|\" operator\n",
        "population = people|dracula\n",
        "print(\"\\nUnion using '|' operator\")\n",
        "print(population)\n",
        "#Union using union() function\n",
        "#{'Jay', 'Karan', 'Idrish', 'Arjun', 'Archil'}\n",
        "#Union using '|' operator\n",
        "#{'Jay', 'Raju', 'Deepanshu', 'Idrish', 'Archil'}"
      ],
      "execution_count": null,
      "outputs": []
    },
    {
      "cell_type": "markdown",
      "metadata": {
        "id": "4aD3H8kGTfC-"
      },
      "source": [
        "Thao tác với Set - Phép giao"
      ]
    },
    {
      "cell_type": "code",
      "metadata": {
        "id": "JqGYW_T-Tg6y"
      },
      "source": [
        "set1 = set()\n",
        "for i in range(5):\n",
        "set1.add(i)\n",
        "set2 = {3, 4, 5, 6, 7, 8}\n",
        "# Intersection using intersection() function\n",
        "set3 = set1.intersection(set2)\n",
        "print(\"Intersection using intersection() function\")\n",
        "print(set3)\n",
        "# Intersection using \"&\" operator\n",
        "set3 = set1 & set2\n",
        "print(\"\\nIntersection using '&' operator\")\n",
        "print(set3)\n",
        "#Intersection using intersection() function\n",
        "#{3, 4}\n",
        "#Intersection using '&' operator {3, 4}"
      ],
      "execution_count": null,
      "outputs": []
    },
    {
      "cell_type": "markdown",
      "metadata": {
        "id": "VMH_cHnBTjIw"
      },
      "source": [
        "Thao tác với Set - Phép hiệu"
      ]
    },
    {
      "cell_type": "code",
      "metadata": {
        "id": "7JBkL1kJTkqE"
      },
      "source": [
        "set1 = set()\n",
        "for i in range(5):\n",
        "set1.add(i)\n",
        "set2 = {3, 4, 5, 6, 7, 8}\n",
        "# Difference of two sets using difference() function\n",
        "set3 = set1.difference(set2)\n",
        "print(\" Difference of two sets using difference() function\")\n",
        "print(set3)\n",
        "# Difference of two sets using '-' operator\n",
        "set3 = set1 - set2\n",
        "print(\"\\nDifference of two sets using '-' operator\")\n",
        "print(set3)\n",
        "#Difference of two sets using difference() function\n",
        "#{0, 1, 2}\n",
        "#Difference of two sets using '-' operator {0, 1, 2}"
      ],
      "execution_count": null,
      "outputs": []
    },
    {
      "cell_type": "markdown",
      "metadata": {
        "id": "2S_lqCDnTnyA"
      },
      "source": [
        "Thao tác với Set - Kiểm tra tập con - tập cha"
      ]
    },
    {
      "cell_type": "code",
      "metadata": {
        "id": "PQTQV30LTqUI"
      },
      "source": [
        "DaysA = set([\"Mon\",\"Tue\",\"Wed\"])\n",
        "DaysB = set([\"Mon\",\"Tue\",\"Wed\",\"Thu\",\"Fri\",\"Sat\",\"Sun\"])\n",
        "SubsetRes = DaysA <= DaysB\n",
        "SupersetRes = DaysB >= DaysA\n",
        "print(SubsetRes)\n",
        "print(SupersetRes)\n",
        "#True\n",
        "#True"
      ],
      "execution_count": null,
      "outputs": []
    },
    {
      "cell_type": "markdown",
      "metadata": {
        "id": "8j1E99gTTssH"
      },
      "source": [
        "Thao tác với Date&Time - Lấy thời gian hiện tại"
      ]
    },
    {
      "cell_type": "code",
      "metadata": {
        "id": "UuU6kSvMTvIU"
      },
      "source": [
        "import time; # This is required to include time module.\n",
        "ticks = time.time()\n",
        "print(\"Number of ticks since 12:00am, January 1, 1970:\", ticks)\n",
        "#Number of ticks since 12:00am, January 1, 1970: 7186862.73399\n",
        "localtime = time.localtime(time.time())\n",
        "print(\"Local current time :\", localtime)\n",
        "#Local current time : time.struct_time(tm_year=2013, tm_mon=7,\n",
        "#tm_mday=17, tm_hour=21, tm_min=26, tm_sec=3,\n",
        "#tm_wday=2, tm_yday=198, tm_isdst=0)"
      ],
      "execution_count": null,
      "outputs": []
    },
    {
      "cell_type": "markdown",
      "metadata": {
        "id": "UoXi-kKNTzFi"
      },
      "source": [
        "Thao tác với Date&Time - Định dạng thời gian"
      ]
    },
    {
      "cell_type": "code",
      "metadata": {
        "id": "eJHDyoMWT1AG"
      },
      "source": [
        "import time;\n",
        "localtime = time.asctime( time.localtime(time.time()) )\n",
        "print(\"Local current time :\", localtime)\n",
        "#Local current time : Tue Jan 13 10:17:09 2009"
      ],
      "execution_count": null,
      "outputs": []
    },
    {
      "cell_type": "markdown",
      "metadata": {
        "id": "9qtj7b29T3rS"
      },
      "source": [
        "Thao tác với Date&Time - Lấy lịch 1 tháng"
      ]
    },
    {
      "cell_type": "code",
      "metadata": {
        "id": "uy1FBap4T5zf"
      },
      "source": [
        "import calendar\n",
        "cal = calendar.month(2008, 1)\n",
        "print(\"Here is the calendar:\")\n",
        "print(cal)\n",
        "#Here is the calendar:\n",
        "# January 2008\n",
        "#Mo Tu We Th Fr Sa Su\n",
        "# 1 2 3 4 5 6\n",
        "# 7 8 9 10 11 12 13\n",
        "#14 15 16 17 18 19 20\n",
        "#21 22 23 24 25 26 27\n",
        "#28 29 30 31"
      ],
      "execution_count": null,
      "outputs": []
    }
  ]
}