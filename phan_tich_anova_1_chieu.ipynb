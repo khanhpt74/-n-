{
  "nbformat": 4,
  "nbformat_minor": 0,
  "metadata": {
    "kernelspec": {
      "display_name": "Python 3",
      "language": "python",
      "name": "python3"
    },
    "language_info": {
      "codemirror_mode": {
        "name": "ipython",
        "version": 3
      },
      "file_extension": ".py",
      "mimetype": "text/x-python",
      "name": "python",
      "nbconvert_exporter": "python",
      "pygments_lexer": "ipython3",
      "version": "3.7.3"
    },
    "colab": {
      "name": "phan-tich-anova-1-chieu.ipynb",
      "provenance": [],
      "include_colab_link": true
    }
  },
  "cells": [
    {
      "cell_type": "markdown",
      "metadata": {
        "id": "view-in-github",
        "colab_type": "text"
      },
      "source": [
        "<a href=\"https://colab.research.google.com/github/khanhpt74/-n-/blob/main/phan_tich_anova_1_chieu.ipynb\" target=\"_parent\"><img src=\"https://colab.research.google.com/assets/colab-badge.svg\" alt=\"Open In Colab\"/></a>"
      ]
    },
    {
      "cell_type": "markdown",
      "metadata": {
        "id": "lOMLwATWLD6C"
      },
      "source": [
        "PHÂN TÍCH ANOVA \n",
        "\n",
        "Tham khảo:\n",
        "\n",
        "(1) [ONE-WAY ANOVA](https://www.pythonfordatascience.org/anova-python/)\n",
        "\n",
        "(2) [ANOVA using Python (with examples)](https://www.reneshbedre.com/blog/anova.html)\n",
        "\n",
        "(3) [Hướng dẫn phân tích ANOVA bằng gói statsmodels](https://www.statsmodels.org/stable/examples/notebooks/generated/interactions_anova.html)"
      ]
    },
    {
      "cell_type": "markdown",
      "metadata": {
        "id": "nnGR5sOXLD6E"
      },
      "source": [
        "QUY TRÌNH PHÂN TÍCH ANOVA MỘT CHIỀU\n",
        "\n",
        "Kiểm tra các giả định:\n",
        "\n",
        "- Các mẫu độc lập với nhau\n",
        "- Các mẫu có cùng phương sai\n",
        "- Các mẫu đều tuân theo phân phối chuẩn\n",
        "\n",
        "Xây dựng giả thuyết\n",
        "\n",
        "$$H_{0}: \\mu_{0} = \\mu_{1} = ... = \\mu_{n}$$\n",
        "$$H_{a}: \\text{Có tối thiểu một cặp giá trị trung bình có giá trị khác nhau}$$\n",
        "\n",
        "Giá trị thống kê F được sử dụng trong việc ra quyết định của phân tích ANOVA một chiều. Công thức tính như sau:\n",
        "\n",
        "$$F = \\frac{MS_{B}}{MS_{W}}$$\n",
        "\n",
        "với:\n",
        "\n",
        "- $MS_{B} = \\frac{\\sum_{k}n_{k}(\\overline{\\rm x_{k}} - \\overline{\\rm x})^{2}}{k - 1}$\n",
        "- $MS_{W} = \\frac{\\sum_{k}n_{i,k}( x_{i,k} - \\overline{\\rm x})^{2}}{k - 1}$\n",
        "\n",
        "Loại bỏ giả thuyết $H_{0}$ khi chỉ số F > chỉ số F-critical (hoặc giá trị p tương ứng < 0.05!!!???)"
      ]
    },
    {
      "cell_type": "markdown",
      "metadata": {
        "id": "wqzMKC6XLD6E"
      },
      "source": [
        "Ví dụ về phân tích ANOVA một chiều"
      ]
    },
    {
      "cell_type": "code",
      "metadata": {
        "id": "Ds02NPNPLD6E",
        "outputId": "178b0860-becd-40e8-9cc2-f703faebcce0"
      },
      "source": [
        "import pandas as pd\n",
        "\n",
        "#ĐỌc dữ liệu\n",
        "df = pd.read_csv(\"https://raw.githubusercontent.com/researchpy/Data-sets/master/difficile.csv\")\n",
        "df.head()"
      ],
      "execution_count": null,
      "outputs": [
        {
          "output_type": "execute_result",
          "data": {
            "text/html": [
              "<div>\n",
              "<style scoped>\n",
              "    .dataframe tbody tr th:only-of-type {\n",
              "        vertical-align: middle;\n",
              "    }\n",
              "\n",
              "    .dataframe tbody tr th {\n",
              "        vertical-align: top;\n",
              "    }\n",
              "\n",
              "    .dataframe thead th {\n",
              "        text-align: right;\n",
              "    }\n",
              "</style>\n",
              "<table border=\"1\" class=\"dataframe\">\n",
              "  <thead>\n",
              "    <tr style=\"text-align: right;\">\n",
              "      <th></th>\n",
              "      <th>person</th>\n",
              "      <th>dose</th>\n",
              "      <th>libido</th>\n",
              "    </tr>\n",
              "  </thead>\n",
              "  <tbody>\n",
              "    <tr>\n",
              "      <th>0</th>\n",
              "      <td>1</td>\n",
              "      <td>1</td>\n",
              "      <td>3</td>\n",
              "    </tr>\n",
              "    <tr>\n",
              "      <th>1</th>\n",
              "      <td>2</td>\n",
              "      <td>1</td>\n",
              "      <td>2</td>\n",
              "    </tr>\n",
              "    <tr>\n",
              "      <th>2</th>\n",
              "      <td>3</td>\n",
              "      <td>1</td>\n",
              "      <td>1</td>\n",
              "    </tr>\n",
              "    <tr>\n",
              "      <th>3</th>\n",
              "      <td>4</td>\n",
              "      <td>1</td>\n",
              "      <td>1</td>\n",
              "    </tr>\n",
              "    <tr>\n",
              "      <th>4</th>\n",
              "      <td>5</td>\n",
              "      <td>1</td>\n",
              "      <td>4</td>\n",
              "    </tr>\n",
              "  </tbody>\n",
              "</table>\n",
              "</div>"
            ],
            "text/plain": [
              "   person  dose  libido\n",
              "0       1     1       3\n",
              "1       2     1       2\n",
              "2       3     1       1\n",
              "3       4     1       1\n",
              "4       5     1       4"
            ]
          },
          "metadata": {
            "tags": []
          },
          "execution_count": 1
        }
      ]
    },
    {
      "cell_type": "code",
      "metadata": {
        "id": "s1cXIrynLD6F",
        "outputId": "10b0a70e-906b-4349-ba10-7490ad38d063"
      },
      "source": [
        "#Loại bỏ cột person, theo bạn thì lý do tại sao?\n",
        "df.drop('person', axis= 1, inplace= True)\n",
        "df.head()"
      ],
      "execution_count": null,
      "outputs": [
        {
          "output_type": "execute_result",
          "data": {
            "text/html": [
              "<div>\n",
              "<style scoped>\n",
              "    .dataframe tbody tr th:only-of-type {\n",
              "        vertical-align: middle;\n",
              "    }\n",
              "\n",
              "    .dataframe tbody tr th {\n",
              "        vertical-align: top;\n",
              "    }\n",
              "\n",
              "    .dataframe thead th {\n",
              "        text-align: right;\n",
              "    }\n",
              "</style>\n",
              "<table border=\"1\" class=\"dataframe\">\n",
              "  <thead>\n",
              "    <tr style=\"text-align: right;\">\n",
              "      <th></th>\n",
              "      <th>dose</th>\n",
              "      <th>libido</th>\n",
              "    </tr>\n",
              "  </thead>\n",
              "  <tbody>\n",
              "    <tr>\n",
              "      <th>0</th>\n",
              "      <td>1</td>\n",
              "      <td>3</td>\n",
              "    </tr>\n",
              "    <tr>\n",
              "      <th>1</th>\n",
              "      <td>1</td>\n",
              "      <td>2</td>\n",
              "    </tr>\n",
              "    <tr>\n",
              "      <th>2</th>\n",
              "      <td>1</td>\n",
              "      <td>1</td>\n",
              "    </tr>\n",
              "    <tr>\n",
              "      <th>3</th>\n",
              "      <td>1</td>\n",
              "      <td>1</td>\n",
              "    </tr>\n",
              "    <tr>\n",
              "      <th>4</th>\n",
              "      <td>1</td>\n",
              "      <td>4</td>\n",
              "    </tr>\n",
              "  </tbody>\n",
              "</table>\n",
              "</div>"
            ],
            "text/plain": [
              "   dose  libido\n",
              "0     1       3\n",
              "1     1       2\n",
              "2     1       1\n",
              "3     1       1\n",
              "4     1       4"
            ]
          },
          "metadata": {
            "tags": []
          },
          "execution_count": 2
        }
      ]
    },
    {
      "cell_type": "code",
      "metadata": {
        "id": "0kY-QLzdLD6G",
        "outputId": "1d0b9145-f8e5-4512-b943-1cd266da1262"
      },
      "source": [
        "#Chuyển đổi giá trị cột dose từ 'định lượng' sang định tính\n",
        "df['dose'].replace({1: 'placebo', 2: 'low', 3: 'high'}, inplace= True)\n",
        "df.head()"
      ],
      "execution_count": null,
      "outputs": [
        {
          "output_type": "execute_result",
          "data": {
            "text/html": [
              "<div>\n",
              "<style scoped>\n",
              "    .dataframe tbody tr th:only-of-type {\n",
              "        vertical-align: middle;\n",
              "    }\n",
              "\n",
              "    .dataframe tbody tr th {\n",
              "        vertical-align: top;\n",
              "    }\n",
              "\n",
              "    .dataframe thead th {\n",
              "        text-align: right;\n",
              "    }\n",
              "</style>\n",
              "<table border=\"1\" class=\"dataframe\">\n",
              "  <thead>\n",
              "    <tr style=\"text-align: right;\">\n",
              "      <th></th>\n",
              "      <th>dose</th>\n",
              "      <th>libido</th>\n",
              "    </tr>\n",
              "  </thead>\n",
              "  <tbody>\n",
              "    <tr>\n",
              "      <th>0</th>\n",
              "      <td>placebo</td>\n",
              "      <td>3</td>\n",
              "    </tr>\n",
              "    <tr>\n",
              "      <th>1</th>\n",
              "      <td>placebo</td>\n",
              "      <td>2</td>\n",
              "    </tr>\n",
              "    <tr>\n",
              "      <th>2</th>\n",
              "      <td>placebo</td>\n",
              "      <td>1</td>\n",
              "    </tr>\n",
              "    <tr>\n",
              "      <th>3</th>\n",
              "      <td>placebo</td>\n",
              "      <td>1</td>\n",
              "    </tr>\n",
              "    <tr>\n",
              "      <th>4</th>\n",
              "      <td>placebo</td>\n",
              "      <td>4</td>\n",
              "    </tr>\n",
              "  </tbody>\n",
              "</table>\n",
              "</div>"
            ],
            "text/plain": [
              "      dose  libido\n",
              "0  placebo       3\n",
              "1  placebo       2\n",
              "2  placebo       1\n",
              "3  placebo       1\n",
              "4  placebo       4"
            ]
          },
          "metadata": {
            "tags": []
          },
          "execution_count": 4
        }
      ]
    },
    {
      "cell_type": "code",
      "metadata": {
        "id": "XyASRT_9LD6G",
        "outputId": "ccbd1aaa-ab5c-4fc6-a5fe-7756b464df6c"
      },
      "source": [
        "import numpy as np\n",
        "#Chuyển đổi df thành dạng phù hợp để phân tích ANOVA một chiều theo gói scipy.stats\n",
        "high = low =  placebo = []\n",
        "high = df['libido'][df['dose'] == 'high']\n",
        "low = df['libido'][df['dose'] == 'low']\n",
        "placebo = df['libido'][df['dose'] == 'placebo']\n",
        "print(high)"
      ],
      "execution_count": null,
      "outputs": [
        {
          "output_type": "stream",
          "text": [
            "10    7\n",
            "11    4\n",
            "12    5\n",
            "13    3\n",
            "14    6\n",
            "Name: libido, dtype: int64\n"
          ],
          "name": "stdout"
        }
      ]
    },
    {
      "cell_type": "code",
      "metadata": {
        "id": "c0T0k_-aLD6G",
        "outputId": "283f1bc2-7b52-4a4e-a25a-79b4dcb7bdcf"
      },
      "source": [
        "print(low)"
      ],
      "execution_count": null,
      "outputs": [
        {
          "output_type": "stream",
          "text": [
            "5    5\n",
            "6    2\n",
            "7    4\n",
            "8    2\n",
            "9    3\n",
            "Name: libido, dtype: int64\n"
          ],
          "name": "stdout"
        }
      ]
    },
    {
      "cell_type": "code",
      "metadata": {
        "id": "0DjMPLq9LD6H",
        "outputId": "e14bbcfb-c40a-4187-e991-8779d7abbf13"
      },
      "source": [
        "print(placebo)"
      ],
      "execution_count": null,
      "outputs": [
        {
          "output_type": "stream",
          "text": [
            "0    3\n",
            "1    2\n",
            "2    1\n",
            "3    1\n",
            "4    4\n",
            "Name: libido, dtype: int64\n"
          ],
          "name": "stdout"
        }
      ]
    },
    {
      "cell_type": "code",
      "metadata": {
        "id": "rAR0m_LuLD6H",
        "outputId": "0514e2e6-19e6-4a22-9874-347e62037496"
      },
      "source": [
        "import scipy.stats as stats\n",
        "\n",
        "stats.f_oneway(high,\n",
        "               low,\n",
        "               placebo)"
      ],
      "execution_count": null,
      "outputs": [
        {
          "output_type": "execute_result",
          "data": {
            "text/plain": [
              "F_onewayResult(statistic=5.11864406779661, pvalue=0.024694289538222603)"
            ]
          },
          "metadata": {
            "tags": []
          },
          "execution_count": 16
        }
      ]
    },
    {
      "cell_type": "markdown",
      "metadata": {
        "id": "FqeFH1beLD6H"
      },
      "source": [
        "p = 0.02 << 0.05 nên...????"
      ]
    },
    {
      "cell_type": "code",
      "metadata": {
        "id": "C838SYmgLD6I"
      },
      "source": [
        "#Bài tập: Bạn hãy nối 3 list high, low, placebo ở trên vào trong 1 dataframe có 3 cột mỗi cột có tên là high, low, placebo\n",
        "#Code here"
      ],
      "execution_count": null,
      "outputs": []
    },
    {
      "cell_type": "code",
      "metadata": {
        "id": "lymuB4tuLD6I"
      },
      "source": [
        ""
      ],
      "execution_count": null,
      "outputs": []
    }
  ]
}