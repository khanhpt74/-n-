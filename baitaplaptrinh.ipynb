{
  "nbformat": 4,
  "nbformat_minor": 0,
  "metadata": {
    "colab": {
      "name": "Untitled20.ipynb",
      "provenance": [],
      "authorship_tag": "ABX9TyNVc1sBdAc574jTdCrpXaC7",
      "include_colab_link": true
    },
    "kernelspec": {
      "name": "python3",
      "display_name": "Python 3"
    },
    "language_info": {
      "name": "python"
    }
  },
  "cells": [
    {
      "cell_type": "markdown",
      "metadata": {
        "id": "view-in-github",
        "colab_type": "text"
      },
      "source": [
        "<a href=\"https://colab.research.google.com/github/khanhpt74/-n-/blob/main/baitaplaptrinh.ipynb\" target=\"_parent\"><img src=\"https://colab.research.google.com/assets/colab-badge.svg\" alt=\"Open In Colab\"/></a>"
      ]
    },
    {
      "cell_type": "markdown",
      "metadata": {
        "id": "hFqGJhC8LF3t"
      },
      "source": [
        "BÀI TẬP LẬP TRÌNH CHƯƠNG 2\n",
        "\n",
        "Bài 1: Lập trình nhập vào từ bàn phím 2 số nguyên và tính:\n",
        "\n",
        "Tổng của 2 số\n",
        "Tích của 2 số\n",
        "Hiệu của 2 số\n",
        "Phép chia lấy phần dư của 2 số\n",
        "Phép chia lấy phần nguyên của 2 số\n",
        "Kết quả xuất ra màn hình"
      ]
    },
    {
      "cell_type": "code",
      "metadata": {
        "colab": {
          "base_uri": "https://localhost:8080/"
        },
        "id": "NchcXzDhLEn-",
        "outputId": "3444d4eb-aab1-471a-97e2-9ee904d8b4d7"
      },
      "source": [
        "a = input(\"a=\")\n",
        "b = input(\"b=\")\n",
        "a = int(a)\n",
        "b = int(b)\n",
        "c = a + b\n",
        "print(\"a + b = \",c)\n",
        "c = a * b\n",
        "print(\"a * b = \",c)\n",
        "c = a - b \n",
        "print(\"a - b = \",c)\n",
        "c = a % b \n",
        "print(\"a % b = \",c)\n",
        "c = a // b \n",
        "print(\"a // b = \",c)\n",
        "\n"
      ],
      "execution_count": 3,
      "outputs": [
        {
          "output_type": "stream",
          "name": "stdout",
          "text": [
            "a=6\n",
            "b=2\n",
            "a + b =  8\n",
            "a * b =  12\n",
            "a - b =  4\n",
            "a % b =  0\n",
            "a // b =  3\n"
          ]
        }
      ]
    },
    {
      "cell_type": "markdown",
      "metadata": {
        "id": "wehHIzc9PjFR"
      },
      "source": [
        "Bài 2: Lập trình nhập vào từ bàn phím 2 số thực và tính:\n",
        "\n",
        "1.Tổng của 2 số\n",
        "2.Tích của 2 số\n",
        "3.Hiệu của 2 số\n",
        "4.Thương của 2 số"
      ]
    },
    {
      "cell_type": "code",
      "metadata": {
        "colab": {
          "base_uri": "https://localhost:8080/"
        },
        "id": "E_jLfOUrP6TL",
        "outputId": "c3a351f2-18a9-4cbd-b3a2-fe835c90f9c6"
      },
      "source": [
        "a = input(\"a= \")\n",
        "b = input(\"b= \")\n",
        "a = float(a)\n",
        "b = float(b)\n",
        "c = a + b\n",
        "print(\"a + b = \", c)\n",
        "c = a * b\n",
        "print(\"a * b = \", c)\n",
        "c = a - b\n",
        "print(\"a - b = \", c)\n",
        "c = a / b\n",
        "print(\"a / b = \", c)"
      ],
      "execution_count": 5,
      "outputs": [
        {
          "output_type": "stream",
          "name": "stdout",
          "text": [
            "a= 6.3\n",
            "b= 4.5\n",
            "a + b =  10.8\n",
            "a * b =  28.349999999999998\n",
            "a - b =  1.7999999999999998\n",
            "a / b =  1.4\n"
          ]
        }
      ]
    },
    {
      "cell_type": "markdown",
      "metadata": {
        "id": "F0XpFMgVQpoT"
      },
      "source": [
        "Bài 3: (Sử dụng các hàm toán học) Nhập một số từ bàn phím và tính:\n",
        "\n",
        "Trị tuyệt đối\n",
        "Lấy phần nguyên của số\n",
        "Chuyển đổi thành số thực\n",
        "(nhập thêm 1 số từ bàn phím) và tính lũy thừa  xy \n",
        "Tính căn bậc hai"
      ]
    },
    {
      "cell_type": "code",
      "metadata": {
        "colab": {
          "base_uri": "https://localhost:8080/"
        },
        "id": "T4fZaW8HQtBf",
        "outputId": "82bb84ee-ab47-47ea-d562-94c2ad624ec5"
      },
      "source": [
        "x=float(input('x= '))\n",
        "y=float(input('y= '))\n",
        "a=abs(x)\n",
        "print('trị tuyệt đối của x là',a)\n",
        "a=int(x)\n",
        "print('phần nguyên của x là', a)\n",
        "a=float(x)\n",
        "print('x chuyển đổi bằng số thực bằng',a)\n",
        "a=pow(x,y)\n",
        "print('lũy thừa của x mũ y là',a)\n",
        "a=pow(x,1/2)\n",
        "print('căn bậc hai của x là',a)"
      ],
      "execution_count": 6,
      "outputs": [
        {
          "output_type": "stream",
          "name": "stdout",
          "text": [
            "x= 5\n",
            "y= 6\n",
            "trị tuyệt đối của x là 5.0\n",
            "phần nguyên của x là 5\n",
            "x chuyển đổi bằng số thực bằng 5.0\n",
            "lũy thừa của x mũ y là 15625.0\n",
            "căn bậc hai của x là 2.23606797749979\n"
          ]
        }
      ]
    },
    {
      "cell_type": "markdown",
      "metadata": {
        "id": "u7mXfxi0Rzxq"
      },
      "source": [
        "Bài 4: Nhập 2 số từ bàn phím và thực hiện các phép so sánh sau giữa 2 số:\n",
        "\n",
        "1.≥ \n",
        "2.≤ \n",
        "3.> \n",
        "4.< \n",
        "5.≠"
      ]
    },
    {
      "cell_type": "code",
      "metadata": {
        "id": "zOTaGEUVR78x"
      },
      "source": [
        "a = input(\"a= \")\n",
        "b = input(\"b= \")\n",
        "a = int(a)\n",
        "b = int(b)\n",
        "print( a >= b )\n",
        "print( a <= b )\n",
        "print( a > b )\n",
        "print( a < b )\n",
        "print( a != b )"
      ],
      "execution_count": null,
      "outputs": []
    },
    {
      "cell_type": "markdown",
      "metadata": {
        "id": "pt2qtn4wSGU8"
      },
      "source": [
        "Bài 5: Nhập 1 chuỗi ký tự từ bàn phím:\n",
        "\n",
        "1.Chuyển thành chuỗi in hoa\n",
        "2.Chuyển thành chuỗi in thường"
      ]
    },
    {
      "cell_type": "code",
      "metadata": {
        "colab": {
          "base_uri": "https://localhost:8080/"
        },
        "id": "t98IVld_SOui",
        "outputId": "aa9f30a6-6b6e-4e8d-fe7e-e55e1825c151"
      },
      "source": [
        "a = \"ngô nhật khánh\" \n",
        "print(a.upper()) # chuyển thành chuỗi in hoa \n",
        "a = \"NGÔ NHẬT KHÁNH\"\n",
        "print(a.lower())#chuyển thành chuỗi in thường "
      ],
      "execution_count": 7,
      "outputs": [
        {
          "output_type": "stream",
          "name": "stdout",
          "text": [
            "NGÔ NHẬT KHÁNH\n",
            "ngô nhật khánh\n"
          ]
        }
      ]
    },
    {
      "cell_type": "markdown",
      "metadata": {
        "id": "841BW3MnS7F6"
      },
      "source": [
        "Bài 6: Xuất ra màn hình 1 chuỗi ký từ nằm trên nhiều hàng (có thể là 1 bài thơ tùy ý bạn lựa chọn)"
      ]
    },
    {
      "cell_type": "code",
      "metadata": {
        "colab": {
          "base_uri": "https://localhost:8080/"
        },
        "id": "0PjX08FITRci",
        "outputId": "a1f35f89-46e0-4d60-b460-1408ef6b54a9"
      },
      "source": [
        "print(\"If you always try your best\")\n",
        "print(\"Then you’ll never have to wonder\")"
      ],
      "execution_count": 10,
      "outputs": [
        {
          "output_type": "stream",
          "name": "stdout",
          "text": [
            "If you always try your best\n",
            "Then you’ll never have to wonder\n"
          ]
        }
      ]
    }
  ]
}