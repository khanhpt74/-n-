{
  "nbformat": 4,
  "nbformat_minor": 0,
  "metadata": {
    "colab": {
      "name": "Untitled24.ipynb",
      "provenance": [],
      "authorship_tag": "ABX9TyOdsvf0bfcja8s+lQPkV/dV",
      "include_colab_link": true
    },
    "kernelspec": {
      "name": "python3",
      "display_name": "Python 3"
    },
    "language_info": {
      "name": "python"
    }
  },
  "cells": [
    {
      "cell_type": "markdown",
      "metadata": {
        "id": "view-in-github",
        "colab_type": "text"
      },
      "source": [
        "<a href=\"https://colab.research.google.com/github/khanhpt74/-n-/blob/main/Untitled24.ipynb\" target=\"_parent\"><img src=\"https://colab.research.google.com/assets/colab-badge.svg\" alt=\"Open In Colab\"/></a>"
      ]
    },
    {
      "cell_type": "markdown",
      "metadata": {
        "id": "SdGlDBBPIkwN"
      },
      "source": [
        "Print First 10 natural numbers using while loop"
      ]
    },
    {
      "cell_type": "code",
      "metadata": {
        "colab": {
          "base_uri": "https://localhost:8080/"
        },
        "id": "yTdYlnmPHOy0",
        "outputId": "d5c0e841-380d-494d-fe32-17b02dee3b4c"
      },
      "source": [
        "k = int(input())\n",
        "\n",
        "while k > -1:\n",
        "     print('k =', k)\n",
        "     k -= 1\n"
      ],
      "execution_count": null,
      "outputs": [
        {
          "output_type": "stream",
          "name": "stdout",
          "text": [
            "10\n",
            "k = 10\n",
            "k = 9\n",
            "k = 8\n",
            "k = 7\n",
            "k = 6\n",
            "k = 5\n",
            "k = 4\n",
            "k = 3\n",
            "k = 2\n",
            "k = 1\n",
            "k = 0\n"
          ]
        }
      ]
    },
    {
      "cell_type": "markdown",
      "metadata": {
        "id": "PVoU6-P5IpiV"
      },
      "source": [
        "Exercise 2: Print the following pattern\n"
      ]
    },
    {
      "cell_type": "code",
      "metadata": {
        "colab": {
          "base_uri": "https://localhost:8080/"
        },
        "id": "aZ2zY281NFVP",
        "outputId": "19f7bdf2-fb0e-45ba-df33-2fcf1ff7a2cf"
      },
      "source": [
        "for i in range (5,0,-1):  # for i in range (số đầu tiên , tới số cuối cùng)\n",
        "  for z in range (i,0,-1): \n",
        "    if z == 1:\n",
        "      print(z)\n",
        "    else:\n",
        "      print(z, end=' ')"
      ],
      "execution_count": null,
      "outputs": [
        {
          "output_type": "stream",
          "name": "stdout",
          "text": [
            "5 4 3 2 1\n",
            "4 3 2 1\n",
            "3 2 1\n",
            "2 1\n",
            "1\n"
          ]
        }
      ]
    },
    {
      "cell_type": "markdown",
      "metadata": {
        "id": "OmltPYCXOPbS"
      },
      "source": [
        "Exercise 3: Calculate the sum of all numbers from 1 to a given number\n"
      ]
    },
    {
      "cell_type": "code",
      "metadata": {
        "colab": {
          "base_uri": "https://localhost:8080/"
        },
        "id": "fOM4iq5UOS9k",
        "outputId": "8ed22141-4397-4d10-c00b-e78d93cf4829"
      },
      "source": [
        "print(\"hay nhap so can tinh \")\n",
        "s = 0 \n",
        "n = int(input())\n",
        "for i in range (1, n + 1, 1):\n",
        "  s += i\n",
        "print(\"ket qua la\", s)  \n"
      ],
      "execution_count": null,
      "outputs": [
        {
          "output_type": "stream",
          "name": "stdout",
          "text": [
            "hay nhap so can tinh \n",
            "7\n",
            "ket qua la 28\n"
          ]
        }
      ]
    },
    {
      "cell_type": "markdown",
      "metadata": {
        "id": "7lVHD-OdQSWZ"
      },
      "source": [
        "Exercise 4: Write a program to print multiplication table of a given number with natural numbers\n",
        "from 1 to 10."
      ]
    },
    {
      "cell_type": "code",
      "metadata": {
        "colab": {
          "base_uri": "https://localhost:8080/"
        },
        "id": "rn2hUqj_RSIW",
        "outputId": "7e78d6d1-8712-4f97-bba4-6a898da6ab74"
      },
      "source": [
        "n =  int(input(\"nhập vào một số: \"))\n",
        "# sử dụng hàm lập \n",
        "for i in range (1,11):\n",
        "  for j in range (1,11):\n",
        "    print(i,\" x \",j,\" = \",i*j)\n"
      ],
      "execution_count": null,
      "outputs": [
        {
          "output_type": "stream",
          "name": "stdout",
          "text": [
            "nhập vào một số: 1\n",
            "1  x  1  =  1\n",
            "1  x  2  =  2\n",
            "1  x  3  =  3\n",
            "1  x  4  =  4\n",
            "1  x  5  =  5\n",
            "1  x  6  =  6\n",
            "1  x  7  =  7\n",
            "1  x  8  =  8\n",
            "1  x  9  =  9\n",
            "1  x  10  =  10\n",
            "2  x  1  =  2\n",
            "2  x  2  =  4\n",
            "2  x  3  =  6\n",
            "2  x  4  =  8\n",
            "2  x  5  =  10\n",
            "2  x  6  =  12\n",
            "2  x  7  =  14\n",
            "2  x  8  =  16\n",
            "2  x  9  =  18\n",
            "2  x  10  =  20\n",
            "3  x  1  =  3\n",
            "3  x  2  =  6\n",
            "3  x  3  =  9\n",
            "3  x  4  =  12\n",
            "3  x  5  =  15\n",
            "3  x  6  =  18\n",
            "3  x  7  =  21\n",
            "3  x  8  =  24\n",
            "3  x  9  =  27\n",
            "3  x  10  =  30\n",
            "4  x  1  =  4\n",
            "4  x  2  =  8\n",
            "4  x  3  =  12\n",
            "4  x  4  =  16\n",
            "4  x  5  =  20\n",
            "4  x  6  =  24\n",
            "4  x  7  =  28\n",
            "4  x  8  =  32\n",
            "4  x  9  =  36\n",
            "4  x  10  =  40\n",
            "5  x  1  =  5\n",
            "5  x  2  =  10\n",
            "5  x  3  =  15\n",
            "5  x  4  =  20\n",
            "5  x  5  =  25\n",
            "5  x  6  =  30\n",
            "5  x  7  =  35\n",
            "5  x  8  =  40\n",
            "5  x  9  =  45\n",
            "5  x  10  =  50\n",
            "6  x  1  =  6\n",
            "6  x  2  =  12\n",
            "6  x  3  =  18\n",
            "6  x  4  =  24\n",
            "6  x  5  =  30\n",
            "6  x  6  =  36\n",
            "6  x  7  =  42\n",
            "6  x  8  =  48\n",
            "6  x  9  =  54\n",
            "6  x  10  =  60\n",
            "7  x  1  =  7\n",
            "7  x  2  =  14\n",
            "7  x  3  =  21\n",
            "7  x  4  =  28\n",
            "7  x  5  =  35\n",
            "7  x  6  =  42\n",
            "7  x  7  =  49\n",
            "7  x  8  =  56\n",
            "7  x  9  =  63\n",
            "7  x  10  =  70\n",
            "8  x  1  =  8\n",
            "8  x  2  =  16\n",
            "8  x  3  =  24\n",
            "8  x  4  =  32\n",
            "8  x  5  =  40\n",
            "8  x  6  =  48\n",
            "8  x  7  =  56\n",
            "8  x  8  =  64\n",
            "8  x  9  =  72\n",
            "8  x  10  =  80\n",
            "9  x  1  =  9\n",
            "9  x  2  =  18\n",
            "9  x  3  =  27\n",
            "9  x  4  =  36\n",
            "9  x  5  =  45\n",
            "9  x  6  =  54\n",
            "9  x  7  =  63\n",
            "9  x  8  =  72\n",
            "9  x  9  =  81\n",
            "9  x  10  =  90\n",
            "10  x  1  =  10\n",
            "10  x  2  =  20\n",
            "10  x  3  =  30\n",
            "10  x  4  =  40\n",
            "10  x  5  =  50\n",
            "10  x  6  =  60\n",
            "10  x  7  =  70\n",
            "10  x  8  =  80\n",
            "10  x  9  =  90\n",
            "10  x  10  =  100\n"
          ]
        }
      ]
    },
    {
      "cell_type": "markdown",
      "metadata": {
        "id": "-a3BWlQTTWO1"
      },
      "source": [
        "Exercise 5: Display numbers from a list using loop\n"
      ]
    },
    {
      "cell_type": "code",
      "metadata": {
        "colab": {
          "base_uri": "https://localhost:8080/"
        },
        "id": "eQP0f-hFUDaW",
        "outputId": "b5a53f68-6253-44a0-a57d-8ce896b62e7e"
      },
      "source": [
        "a = [1,2,3,4,5,6,7,8,9]\n",
        "for i in range(0,len(a)):\n",
        "  print(\"a[\",i,\"]=\",a[i])"
      ],
      "execution_count": null,
      "outputs": [
        {
          "output_type": "stream",
          "name": "stdout",
          "text": [
            "a[ 0 ]= 1\n",
            "a[ 1 ]= 2\n",
            "a[ 2 ]= 3\n",
            "a[ 3 ]= 4\n",
            "a[ 4 ]= 5\n",
            "a[ 5 ]= 6\n",
            "a[ 6 ]= 7\n",
            "a[ 7 ]= 8\n",
            "a[ 8 ]= 9\n"
          ]
        }
      ]
    },
    {
      "cell_type": "markdown",
      "metadata": {
        "id": "laRbk7HZdIOc"
      },
      "source": [
        "Exercise 6: Count the total number of digits in a number\n"
      ]
    },
    {
      "cell_type": "code",
      "metadata": {
        "colab": {
          "base_uri": "https://localhost:8080/"
        },
        "id": "dqG035LjeiF1",
        "outputId": "fda1d321-699b-4a88-efa2-06d5152890a0"
      },
      "source": [
        "print(\"hay nhap so can dien vao \")\n",
        "a = int(input())\n",
        "d = 0 \n",
        "b = str(a) \n",
        "for c in b:\n",
        "  d = d+1\n",
        "print(d)  "
      ],
      "execution_count": null,
      "outputs": [
        {
          "output_type": "stream",
          "name": "stdout",
          "text": [
            "hay nhap so can dien vao \n",
            "2771834629\n",
            "10\n"
          ]
        }
      ]
    },
    {
      "cell_type": "markdown",
      "metadata": {
        "id": "q_qHy5X_hw0a"
      },
      "source": [
        "Exercise 7: Print list in reverse order using a loop\n"
      ]
    },
    {
      "cell_type": "code",
      "metadata": {
        "colab": {
          "base_uri": "https://localhost:8080/"
        },
        "id": "rf4F59K_hzk3",
        "outputId": "ce7d6cb0-bf27-4ce9-966c-0941ce7923f4"
      },
      "source": [
        "a = [1,2,3,4,5,6,7,8,9]\n",
        "i = len(a)-1\n",
        "while i>-1:\n",
        "  print(\"a[\",i,\"]=\",a[i])\n",
        "  i = i-1"
      ],
      "execution_count": null,
      "outputs": [
        {
          "output_type": "stream",
          "name": "stdout",
          "text": [
            "a[ 8 ]= 9\n",
            "a[ 7 ]= 8\n",
            "a[ 6 ]= 7\n",
            "a[ 5 ]= 6\n",
            "a[ 4 ]= 5\n",
            "a[ 3 ]= 4\n",
            "a[ 2 ]= 3\n",
            "a[ 1 ]= 2\n",
            "a[ 0 ]= 1\n"
          ]
        }
      ]
    },
    {
      "cell_type": "markdown",
      "metadata": {
        "id": "-lA7nFHyiWw3"
      },
      "source": [
        "Exercise 8: Display numbers from -10 to -1 using for loop"
      ]
    },
    {
      "cell_type": "code",
      "metadata": {
        "colab": {
          "base_uri": "https://localhost:8080/"
        },
        "id": "FqMDgk0gibvR",
        "outputId": "8b0a16e0-da3b-4084-a69d-5677b11cd67c"
      },
      "source": [
        "i = -10\n",
        "while i < 0:\n",
        "  print(i)\n",
        "  i = i+1"
      ],
      "execution_count": null,
      "outputs": [
        {
          "output_type": "stream",
          "name": "stdout",
          "text": [
            "-10\n",
            "-9\n",
            "-8\n",
            "-7\n",
            "-6\n",
            "-5\n",
            "-4\n",
            "-3\n",
            "-2\n",
            "-1\n"
          ]
        }
      ]
    },
    {
      "cell_type": "markdown",
      "metadata": {
        "id": "ltPWB8cflX1A"
      },
      "source": [
        "Exercise 9: Use else block to display a message “Done” after successful execution of for loop"
      ]
    },
    {
      "cell_type": "code",
      "metadata": {
        "colab": {
          "base_uri": "https://localhost:8080/"
        },
        "id": "0x6oHEEilY9L",
        "outputId": "8692a4fd-d077-4e47-aed5-6482d5912e55"
      },
      "source": [
        "i = -10\n",
        "while i < 0:\n",
        "  print(i)\n",
        "  i = i+1\n",
        "  if(i ==0):\n",
        "    print(\"done\")\n"
      ],
      "execution_count": null,
      "outputs": [
        {
          "output_type": "stream",
          "name": "stdout",
          "text": [
            "-10\n",
            "-9\n",
            "-8\n",
            "-7\n",
            "-6\n",
            "-5\n",
            "-4\n",
            "-3\n",
            "-2\n",
            "-1\n",
            "done\n"
          ]
        }
      ]
    },
    {
      "cell_type": "markdown",
      "metadata": {
        "id": "3m4itvlmmLEX"
      },
      "source": [
        "Exercise 10: Write a program to display all prime numbers within a range"
      ]
    },
    {
      "cell_type": "code",
      "metadata": {
        "id": "vmpyqEZanu43"
      },
      "source": [
        ""
      ],
      "execution_count": null,
      "outputs": []
    }
  ]
}