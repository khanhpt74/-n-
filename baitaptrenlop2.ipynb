{
  "nbformat": 4,
  "nbformat_minor": 0,
  "metadata": {
    "colab": {
      "name": "Untitled22.ipynb",
      "provenance": [],
      "authorship_tag": "ABX9TyMFzGlKpA7t8ZjxBfzXjVK3",
      "include_colab_link": true
    },
    "kernelspec": {
      "name": "python3",
      "display_name": "Python 3"
    },
    "language_info": {
      "name": "python"
    }
  },
  "cells": [
    {
      "cell_type": "markdown",
      "metadata": {
        "id": "view-in-github",
        "colab_type": "text"
      },
      "source": [
        "<a href=\"https://colab.research.google.com/github/khanhpt74/-n-/blob/main/baitaptrenlop2.ipynb\" target=\"_parent\"><img src=\"https://colab.research.google.com/assets/colab-badge.svg\" alt=\"Open In Colab\"/></a>"
      ]
    },
    {
      "cell_type": "markdown",
      "metadata": {
        "id": "eWVHI_bDUcbj"
      },
      "source": [
        "Write a Python program to sum all the items in a list. (sum() function)"
      ]
    },
    {
      "cell_type": "code",
      "metadata": {
        "colab": {
          "base_uri": "https://localhost:8080/"
        },
        "id": "wPWeyQJXUSW2",
        "outputId": "a125f35f-70eb-4a09-a9be-3897d4f0e3fb"
      },
      "source": [
        "a = [1, 2, 4, 5, 6]\n",
        "a_total = sum(a)\n",
        "print(a_total)\n"
      ],
      "execution_count": 19,
      "outputs": [
        {
          "output_type": "stream",
          "name": "stdout",
          "text": [
            "18\n"
          ]
        }
      ]
    },
    {
      "cell_type": "markdown",
      "metadata": {
        "id": "ANNk8Vd-V9Pp"
      },
      "source": [
        "2. Write a Python program to multiply all the items in a list. (math.prod() function)"
      ]
    },
    {
      "cell_type": "code",
      "metadata": {
        "colab": {
          "base_uri": "https://localhost:8080/",
          "height": 217
        },
        "id": "m4vxTs-dWbGj",
        "outputId": "33873265-4787-4258-eced-41765ff3de6a"
      },
      "source": [
        "import math\n",
        "arr = [1, 2, 3, 4, 5]\n",
        "product = math.prod(arr)\n",
        "print(product)"
      ],
      "execution_count": 13,
      "outputs": [
        {
          "output_type": "error",
          "ename": "AttributeError",
          "evalue": "ignored",
          "traceback": [
            "\u001b[0;31m---------------------------------------------------------------------------\u001b[0m",
            "\u001b[0;31mAttributeError\u001b[0m                            Traceback (most recent call last)",
            "\u001b[0;32m<ipython-input-13-3f0bf248c3f3>\u001b[0m in \u001b[0;36m<module>\u001b[0;34m()\u001b[0m\n\u001b[1;32m      1\u001b[0m \u001b[0;32mimport\u001b[0m \u001b[0mmath\u001b[0m\u001b[0;34m\u001b[0m\u001b[0;34m\u001b[0m\u001b[0m\n\u001b[1;32m      2\u001b[0m \u001b[0marr\u001b[0m \u001b[0;34m=\u001b[0m \u001b[0;34m[\u001b[0m\u001b[0;36m1\u001b[0m\u001b[0;34m,\u001b[0m \u001b[0;36m2\u001b[0m\u001b[0;34m,\u001b[0m \u001b[0;36m3\u001b[0m\u001b[0;34m,\u001b[0m \u001b[0;36m4\u001b[0m\u001b[0;34m,\u001b[0m \u001b[0;36m5\u001b[0m\u001b[0;34m]\u001b[0m\u001b[0;34m\u001b[0m\u001b[0;34m\u001b[0m\u001b[0m\n\u001b[0;32m----> 3\u001b[0;31m \u001b[0mproduct\u001b[0m \u001b[0;34m=\u001b[0m \u001b[0mmath\u001b[0m\u001b[0;34m.\u001b[0m\u001b[0mprod\u001b[0m\u001b[0;34m(\u001b[0m\u001b[0marr\u001b[0m\u001b[0;34m)\u001b[0m\u001b[0;34m\u001b[0m\u001b[0;34m\u001b[0m\u001b[0m\n\u001b[0m\u001b[1;32m      4\u001b[0m \u001b[0mprint\u001b[0m\u001b[0;34m(\u001b[0m\u001b[0mproduct\u001b[0m\u001b[0;34m)\u001b[0m\u001b[0;34m\u001b[0m\u001b[0;34m\u001b[0m\u001b[0m\n",
            "\u001b[0;31mAttributeError\u001b[0m: module 'math' has no attribute 'prod'"
          ]
        }
      ]
    },
    {
      "cell_type": "markdown",
      "metadata": {
        "id": "NXhJw1RXZQIC"
      },
      "source": [
        "3. Write a Python program to get the largest number from a list. (max() function)"
      ]
    },
    {
      "cell_type": "code",
      "metadata": {
        "colab": {
          "base_uri": "https://localhost:8080/"
        },
        "id": "RBxNCiqqZWeB",
        "outputId": "d791b6b7-954b-4650-a377-ce7b84aa856a"
      },
      "source": [
        "number = [1, 2, 3, 6, 7, 10]\n",
        "# phần tử lớn nhất max\n",
        "print(\"Largest number of the list is:\", max(number))"
      ],
      "execution_count": 15,
      "outputs": [
        {
          "output_type": "stream",
          "name": "stdout",
          "text": [
            "Largest number of the list is: 10\n"
          ]
        }
      ]
    },
    {
      "cell_type": "markdown",
      "metadata": {
        "id": "7s1k8ORfaW3e"
      },
      "source": [
        "4. Write a Python program to get the smallest number from a list. (min() function)"
      ]
    },
    {
      "cell_type": "code",
      "metadata": {
        "colab": {
          "base_uri": "https://localhost:8080/"
        },
        "id": "ctthudBAaY89",
        "outputId": "0d176bda-579d-48cc-ff27-f3332193e75e"
      },
      "source": [
        "number = [2, 3, 4, 6, 7]\n",
        "# phần tử nhỏ nhất min \n",
        "print(\"Smallest element is:\", min(number))"
      ],
      "execution_count": 20,
      "outputs": [
        {
          "output_type": "stream",
          "name": "stdout",
          "text": [
            "Smallest element is: 2\n"
          ]
        }
      ]
    },
    {
      "cell_type": "markdown",
      "metadata": {
        "id": "Jm2Az02KbAXT"
      },
      "source": [
        "5. Write a Python program to sort a list in descending order (sort() function)\n"
      ]
    },
    {
      "cell_type": "code",
      "metadata": {
        "colab": {
          "base_uri": "https://localhost:8080/"
        },
        "id": "9LUinbnqbeH-",
        "outputId": "3535bc3e-bc22-464f-f234-4d4858dc3754"
      },
      "source": [
        "number = [1, 5, 3, 4, 2, 10, 6, 8, 7, 9]\n",
        "number.sort()\n",
        "print(number)"
      ],
      "execution_count": 25,
      "outputs": [
        {
          "output_type": "stream",
          "name": "stdout",
          "text": [
            "[1, 2, 3, 4, 5, 6, 7, 8, 9, 10]\n"
          ]
        }
      ]
    },
    {
      "cell_type": "markdown",
      "metadata": {
        "id": "S3farRrpcRFl"
      },
      "source": [
        "6. Write a Python program to sort a list in ascending order (sort() function)\n"
      ]
    },
    {
      "cell_type": "code",
      "metadata": {
        "colab": {
          "base_uri": "https://localhost:8080/"
        },
        "id": "yr1BVPBPcXJQ",
        "outputId": "46f5e6bd-3e12-4418-c0c0-45c549762d18"
      },
      "source": [
        "number = [1, 5, 3, 4, 2, 10, 6, 8, 7, 9]\n",
        "number.sort(reverse=True)\n",
        "print(number)"
      ],
      "execution_count": 32,
      "outputs": [
        {
          "output_type": "stream",
          "name": "stdout",
          "text": [
            "[10, 9, 8, 7, 6, 5, 4, 3, 2, 1]\n"
          ]
        }
      ]
    },
    {
      "cell_type": "markdown",
      "metadata": {
        "id": "j3ab8SgqdNUI"
      },
      "source": [
        "7. Write a Python program to get the size of a list (len() function)"
      ]
    },
    {
      "cell_type": "code",
      "metadata": {
        "colab": {
          "base_uri": "https://localhost:8080/"
        },
        "id": "f1RttVAYdShN",
        "outputId": "918fe100-4362-43fa-e705-c5250b2f6635"
      },
      "source": [
        "lis = [\"khanh\", \"hello\", 1, 2, 3]\n",
        "print (\"số phần tử trong list = \", len(lis))"
      ],
      "execution_count": 29,
      "outputs": [
        {
          "output_type": "stream",
          "name": "stdout",
          "text": [
            "số phần tử trong list =  5\n"
          ]
        }
      ]
    },
    {
      "cell_type": "markdown",
      "metadata": {
        "id": "soaGwWHeem7W"
      },
      "source": [
        "8. Write a Python program to get random element(s) of a list (random.choice() function)"
      ]
    },
    {
      "cell_type": "code",
      "metadata": {
        "colab": {
          "base_uri": "https://localhost:8080/"
        },
        "id": "auMqsweJerKF",
        "outputId": "8be50434-7674-43c3-ea5d-ed6fea383bd2"
      },
      "source": [
        "import random\n",
        "list = [2, 2, 4, 6, 6, 8]\n",
        "print(random.choice(list))\n"
      ],
      "execution_count": 30,
      "outputs": [
        {
          "output_type": "stream",
          "name": "stdout",
          "text": [
            "6\n"
          ]
        }
      ]
    },
    {
      "cell_type": "markdown",
      "metadata": {
        "id": "EVBs9RvLfRHT"
      },
      "source": [
        "9. Write a Python program to join two different lists into one (use + or extend() function)\n"
      ]
    },
    {
      "cell_type": "code",
      "metadata": {
        "colab": {
          "base_uri": "https://localhost:8080/"
        },
        "id": "siXNYJXxfWOY",
        "outputId": "bae78874-02cc-41e9-b1c0-cc7935e1b106"
      },
      "source": [
        "lis1 = [1, 4, 5, 6, 5]\n",
        "lis2 = [3, 5, 7, 2, 5] \n",
        "lis3 = lis1 + lis2\n",
        "print(lis3)"
      ],
      "execution_count": 31,
      "outputs": [
        {
          "output_type": "stream",
          "name": "stdout",
          "text": [
            "[1, 4, 5, 6, 5, 3, 5, 7, 2, 5]\n"
          ]
        }
      ]
    }
  ]
}