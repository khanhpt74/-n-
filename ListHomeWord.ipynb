{
  "nbformat": 4,
  "nbformat_minor": 0,
  "metadata": {
    "colab": {
      "name": "Untitled34.ipynb",
      "provenance": [],
      "authorship_tag": "ABX9TyNmweDKI/JwUj6LbeSsQpvu",
      "include_colab_link": true
    },
    "kernelspec": {
      "name": "python3",
      "display_name": "Python 3"
    },
    "language_info": {
      "name": "python"
    }
  },
  "cells": [
    {
      "cell_type": "markdown",
      "metadata": {
        "id": "view-in-github",
        "colab_type": "text"
      },
      "source": [
        "<a href=\"https://colab.research.google.com/github/khanhpt74/-n-/blob/main/ListHomeWord.ipynb\" target=\"_parent\"><img src=\"https://colab.research.google.com/assets/colab-badge.svg\" alt=\"Open In Colab\"/></a>"
      ]
    },
    {
      "cell_type": "markdown",
      "source": [
        "Bài 1. Nhập một dãy số nguyên từ bàn phím, và sắp xếp chúng theo thứ tự tăng dần\n",
        "Input: 5 2 4 18 9 1\n",
        "Output: 1 2 4 5 9 18"
      ],
      "metadata": {
        "id": "1NppWP0jEO0H"
      }
    },
    {
      "cell_type": "code",
      "execution_count": 1,
      "metadata": {
        "colab": {
          "base_uri": "https://localhost:8080/"
        },
        "id": "urJvsYrFEMVQ",
        "outputId": "92f7d220-5ffd-4ffb-d212-54aa51016b0b"
      },
      "outputs": [
        {
          "output_type": "stream",
          "name": "stdout",
          "text": [
            "List trước khi được sắp xếp: [5, 2, 4, 18, 9, 1]\n",
            "List sau khi được sắp xếp: [1, 2, 4, 5, 9, 18]\n"
          ]
        }
      ],
      "source": [
        "# Khởi tạo list ban đầu lưu trữ các phần tử input\n",
        "list_input = [5, 2, 4, 18, 9, 1]\n",
        "\n",
        "print(f\"List trước khi được sắp xếp: {list_input}\")\n",
        "\n",
        "# Sắp xếp list theo thứ tự tăng dần bằng hàm sort()\n",
        "list_input.sort(reverse = False)\n",
        "\n",
        "# Xuất giá trị của list sau khi sắp xếp ra màn hình\n",
        "print(f\"List sau khi được sắp xếp: {list_input}\")"
      ]
    },
    {
      "cell_type": "markdown",
      "source": [
        "Bài 2. Nhập một dãy số nguyên từ bàn phím, và cho biết số lần xuất hiện của từng số trong dãy số\n",
        "Input: 1 3 2 9 4 3 2 9 8 1 1 3 2 9 1\n",
        "Ouput: (1,4) (2,3) (3,3) (4,1) (8,1) (9,3)"
      ],
      "metadata": {
        "id": "JhfW_GvGEcBg"
      }
    },
    {
      "cell_type": "code",
      "source": [
        "'''\n",
        "*\n",
        "*\n",
        "*\n",
        "* Ideal:\n",
        "* STEP 1: Tiến hành sắp xếp list theo thứ tự tăng dần, lúc đó các phần tử giống nhau sẽ đứng cạnh nhau \n",
        "* (Ngoài ra có cách khác là sử dụng chỉ số mảng làm key)\n",
        "* STEP 2: Đếm các phần tử giống nhau\n",
        "*\n",
        "'''\n",
        "# Khởi tạo mảng arr_list để lưu trữ các phần tử trùng nhau\n",
        "arr_list = []\n",
        "\n",
        "# Khởi tạo list ban đầu lưu trữ các phần tử input\n",
        "list_input = [1, 3, 2, 9, 4, 3, 2, 9, 8, 1, 1, 3, 2, 9, 1]\n",
        "\n",
        "print(f\"List ban đầu: {list_input}\")\n",
        "\n",
        "# Sắp xếp list theo thứ tự tăng dần bằng hàm sort()\n",
        "list_input.sort(reverse = False)\n",
        "\n",
        "print(f\"List sau khi được sắp xếp: {list_input}\")\n",
        "\n",
        "# Khởi tạo biến countOccurrences = 1 để đếm số lần xuất hiện của từng số\n",
        "countOccurrences = 1\n",
        "\n",
        "for i in range(1, len(list_input)):\n",
        "  if (list_input[i] == list_input[i-1]):\n",
        "    countOccurrences += 1\n",
        "  else:\n",
        "    print(f\"Phần tử {list_input[i-1]} xuất hiện {countOccurrences} lần\")\n",
        "    countOccurrences = 1\n",
        "print(f\"Phần tử {list_input[i-1]} xuất hiện {countOccurrences} lần\")"
      ],
      "metadata": {
        "colab": {
          "base_uri": "https://localhost:8080/"
        },
        "id": "1_Vd1grmEc_h",
        "outputId": "2994e426-2df2-4f4b-835c-2e2391020597"
      },
      "execution_count": 2,
      "outputs": [
        {
          "output_type": "stream",
          "name": "stdout",
          "text": [
            "List ban đầu: [1, 3, 2, 9, 4, 3, 2, 9, 8, 1, 1, 3, 2, 9, 1]\n",
            "List sau khi được sắp xếp: [1, 1, 1, 1, 2, 2, 2, 3, 3, 3, 4, 8, 9, 9, 9]\n",
            "Phần tử 1 xuất hiện 4 lần\n",
            "Phần tử 2 xuất hiện 3 lần\n",
            "Phần tử 3 xuất hiện 3 lần\n",
            "Phần tử 4 xuất hiện 1 lần\n",
            "Phần tử 8 xuất hiện 1 lần\n",
            "Phần tử 9 xuất hiện 3 lần\n"
          ]
        }
      ]
    },
    {
      "cell_type": "markdown",
      "source": [
        "Bài 3: cài đặt stack\n"
      ],
      "metadata": {
        "id": "P7NbssPREpAp"
      }
    },
    {
      "cell_type": "code",
      "source": [
        "# Khởi tạo biến để lưu trữ dữ liệu cho stack\n",
        "stack = []\n",
        "\n",
        "# Sử dụng hàm append() để thêm dữ liệu vào stack\n",
        "stack.append('a')\n",
        "stack.append('b')\n",
        "stack.append('c')\n",
        "\n",
        "print(f'Stack khi thực hiện append: {stack}')\n",
        "print(\"\\n\")\n",
        "\n",
        "# Sử dụng hàm pop() để lấy đẩy giá trị phần tử ra khỏi stack theo thứ tự sau cùng -> đầu tiên được thêm vào stack\n",
        "print(\"Giá trị các phần tử lần lượt được pop khỏi stack:\")\n",
        "print(stack.pop())\n",
        "print(stack.pop())\n",
        "print(stack.pop())\n",
        "print(\"\\n\")\n",
        "\n",
        "print(f\"Giá trị của stack hiện tại: {stack}\")"
      ],
      "metadata": {
        "colab": {
          "base_uri": "https://localhost:8080/"
        },
        "id": "5WTsbzoNEqT5",
        "outputId": "17658a84-61b9-4cf6-8f21-003c3ddd9d45"
      },
      "execution_count": 4,
      "outputs": [
        {
          "output_type": "stream",
          "name": "stdout",
          "text": [
            "Stack khi thực hiện append: ['a', 'b', 'c']\n",
            "\n",
            "\n",
            "Giá trị các phần tử lần lượt được pop khỏi stack:\n",
            "c\n",
            "b\n",
            "a\n",
            "\n",
            "\n",
            "Giá trị của stack hiện tại: []\n"
          ]
        }
      ]
    },
    {
      "cell_type": "markdown",
      "source": [
        "Bài 4: cài đặt queue"
      ],
      "metadata": {
        "id": "BytvF2krEtgn"
      }
    },
    {
      "cell_type": "code",
      "source": [
        "# Khởi tạo biến để lưu trữ dữ liệu cho queue\n",
        "queue = []\n",
        "\n",
        "# Sử dụng hàm append() để thêm dữ liệu vào queue\n",
        "queue.append('a')\n",
        "queue.append('b')\n",
        "queue.append('c')\n",
        "\n",
        "print(f'queue khi thực hiện append: {queue}')\n",
        "print(\"\\n\")\n",
        "\n",
        "# Sử dụng hàm pop() để lấy đẩy giá trị phần tử ra khỏi queue theo thứ tự đầu tiên -> sau cùng được thêm vào queue\n",
        "print(\"Giá trị các phần tử lần lượt được pop khỏi queue:\")\n",
        "print(queue.pop(0))\n",
        "print(queue.pop(0))\n",
        "print(queue.pop(0))\n",
        "print(\"\\n\")\n",
        "\n",
        "print(f\"Giá trị của queue hiện tại: {queue}\")"
      ],
      "metadata": {
        "colab": {
          "base_uri": "https://localhost:8080/"
        },
        "id": "lCN0ldepEwID",
        "outputId": "c03a7350-0173-4da9-817e-5861ffab257e"
      },
      "execution_count": 3,
      "outputs": [
        {
          "output_type": "stream",
          "name": "stdout",
          "text": [
            "queue khi thực hiện append: ['a', 'b', 'c']\n",
            "\n",
            "\n",
            "Giá trị các phần tử lần lượt được pop khỏi queue:\n",
            "a\n",
            "b\n",
            "c\n",
            "\n",
            "\n",
            "Giá trị của queue hiện tại: []\n"
          ]
        }
      ]
    }
  ]
}